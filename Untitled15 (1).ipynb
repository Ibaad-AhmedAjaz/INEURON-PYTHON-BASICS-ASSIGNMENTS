{
 "cells": [
  {
   "cell_type": "markdown",
   "id": "5e621047",
   "metadata": {},
   "source": [
    "# ASSIGNMENT_2 (PYTHON BASICS)"
   ]
  },
  {
   "cell_type": "raw",
   "id": "300ae8c3",
   "metadata": {},
   "source": [
    "1.What are two values of the boolean data type?"
   ]
  },
  {
   "cell_type": "raw",
   "id": "4704d3d9",
   "metadata": {},
   "source": [
    "Ans)\n",
    "\n",
    "The Boolean data type in Python has two values: True and False.\n",
    "These values are used to represent the truth or falsity of a condition in logical operations.\n",
    "\n",
    "EXAMPLE\n",
    "\n",
    "is_true = True\n",
    "is_false = False\n",
    "result = 5 > 3  # The result is True\n",
    "OUTPUT\n",
    "True\n"
   ]
  },
  {
   "cell_type": "code",
   "execution_count": null,
   "id": "ac251816",
   "metadata": {},
   "outputs": [],
   "source": []
  },
  {
   "cell_type": "code",
   "execution_count": null,
   "id": "8e2d4aff",
   "metadata": {},
   "outputs": [],
   "source": []
  }
 ],
 "metadata": {
  "kernelspec": {
   "display_name": "Python 3 (ipykernel)",
   "language": "python",
   "name": "python3"
  },
  "language_info": {
   "codemirror_mode": {
    "name": "ipython",
    "version": 3
   },
   "file_extension": ".py",
   "mimetype": "text/x-python",
   "name": "python",
   "nbconvert_exporter": "python",
   "pygments_lexer": "ipython3",
   "version": "3.11.5"
  }
 },
 "nbformat": 4,
 "nbformat_minor": 5
}
