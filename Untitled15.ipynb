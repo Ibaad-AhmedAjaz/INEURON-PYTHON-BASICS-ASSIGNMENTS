{
 "cells": [
  {
   "cell_type": "markdown",
   "id": "428a0a53",
   "metadata": {},
   "source": [
    "# ASSIGNMENT_2 (PYTHON BASICS)"
   ]
  },
  {
   "cell_type": "raw",
   "id": "34ab162b",
   "metadata": {},
   "source": [
    "1.What are the two values of the Boolean data type? How do you write them?"
   ]
  },
  {
   "cell_type": "raw",
   "id": "6bf0e157",
   "metadata": {},
   "source": [
    "Ans)\n",
    "\n",
    "The Boolean data type in Python has two values: True and False.\n",
    "These values are used to represent the truth or falsity of a condition in logical operations.\n",
    "\n",
    "EXAMPLE\n",
    "\n",
    "is_true = True\n",
    "is_false = False\n",
    "result = 5 > 3  # The result is True\n",
    "OUTPUT\n",
    "True\n"
   ]
  },
  {
   "cell_type": "code",
   "execution_count": null,
   "id": "cc823cb7",
   "metadata": {},
   "outputs": [],
   "source": []
  },
  {
   "cell_type": "code",
   "execution_count": null,
   "id": "eef55b6e",
   "metadata": {},
   "outputs": [],
   "source": []
  }
 ],
 "metadata": {
  "kernelspec": {
   "display_name": "Python 3 (ipykernel)",
   "language": "python",
   "name": "python3"
  },
  "language_info": {
   "codemirror_mode": {
    "name": "ipython",
    "version": 3
   },
   "file_extension": ".py",
   "mimetype": "text/x-python",
   "name": "python",
   "nbconvert_exporter": "python",
   "pygments_lexer": "ipython3",
   "version": "3.11.5"
  }
 },
 "nbformat": 4,
 "nbformat_minor": 5
}
