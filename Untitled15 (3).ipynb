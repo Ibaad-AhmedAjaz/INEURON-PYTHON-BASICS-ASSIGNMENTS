{
 "cells": [
  {
   "cell_type": "markdown",
   "id": "1bea7d75",
   "metadata": {},
   "source": [
    "# ASSIGNMENT_2 (PYTHON BASICS)"
   ]
  },
  {
   "cell_type": "markdown",
   "id": "2a5fff85",
   "metadata": {},
   "source": [
    "1.What are two values of the boolean data type?"
   ]
  },
  {
   "cell_type": "markdown",
   "id": "61011ddb",
   "metadata": {},
   "source": [
    "Ans)\n",
    "\n",
    "The Boolean data type in Python has two values: True and False.\n",
    "\n",
    "These values are used to represent the truth or falsity of a condition in logical operations.\n",
    "\n",
    "EXAMPLE\n",
    "\n",
    "is_true = True\n",
    "\n",
    "is_false = False\n",
    "\n",
    "result = 5 > 3  # The result is True\n",
    "OUTPUT\n",
    "True\n"
   ]
  }
 ],
 "metadata": {
  "kernelspec": {
   "display_name": "Python 3 (ipykernel)",
   "language": "python",
   "name": "python3"
  },
  "language_info": {
   "codemirror_mode": {
    "name": "ipython",
    "version": 3
   },
   "file_extension": ".py",
   "mimetype": "text/x-python",
   "name": "python",
   "nbconvert_exporter": "python",
   "pygments_lexer": "ipython3",
   "version": "3.11.5"
  }
 },
 "nbformat": 4,
 "nbformat_minor": 5
}
