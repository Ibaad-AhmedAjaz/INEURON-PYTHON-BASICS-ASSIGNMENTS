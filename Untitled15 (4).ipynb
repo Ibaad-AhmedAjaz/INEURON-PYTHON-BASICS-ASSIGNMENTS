{
 "cells": [
  {
   "cell_type": "markdown",
   "id": "ff64827f",
   "metadata": {},
   "source": [
    "# ASSIGNMENT_2 (PYTHON BASICS)"
   ]
  },
  {
   "cell_type": "raw",
   "id": "a06f8b47",
   "metadata": {
    "raw_mimetype": "-nbconvert"
   },
   "source": [
    "1.What are two values of the boolean data type?"
   ]
  },
  {
   "cell_type": "raw",
   "id": "e4168dfc",
   "metadata": {
    "raw_mimetype": "-nbconvert"
   },
   "source": [
    "Ans)\n",
    "\n",
    "The Boolean data type in Python has two values: True and False.\n",
    "\n",
    "These values are used to represent the truth or falsity of a condition in logical operations.\n",
    "\n",
    "EXAMPLE\n",
    "\n",
    "is_true = True\n",
    "\n",
    "is_false = False\n",
    "\n",
    "result = 5 > 3  # The result is True\n",
    "OUTPUT\n",
    "True\n"
   ]
  },
  {
   "cell_type": "code",
   "execution_count": null,
   "id": "2a587cf5",
   "metadata": {},
   "outputs": [],
   "source": []
  }
 ],
 "metadata": {
  "celltoolbar": "Raw Cell Format",
  "kernelspec": {
   "display_name": "Python 3 (ipykernel)",
   "language": "python",
   "name": "python3"
  },
  "language_info": {
   "codemirror_mode": {
    "name": "ipython",
    "version": 3
   },
   "file_extension": ".py",
   "mimetype": "text/x-python",
   "name": "python",
   "nbconvert_exporter": "python",
   "pygments_lexer": "ipython3",
   "version": "3.11.5"
  }
 },
 "nbformat": 4,
 "nbformat_minor": 5
}
