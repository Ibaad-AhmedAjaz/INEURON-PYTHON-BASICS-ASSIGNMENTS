{
 "cells": [
  {
   "cell_type": "markdown",
   "id": "3c2f2973",
   "metadata": {},
   "source": [
    "# ASSIGNMENT_1 (PYTHON BASICS).\n"
   ]
  },
  {
   "cell_type": "raw",
   "id": "3d2d392f",
   "metadata": {},
   "source": [
    "1. In the below elements which of them are values or an expression? eg:- values can be integer or string and expressions will be mathematical operators.\n",
    "* \n",
    "'hello'\n",
    "-87.8\n",
    "- \n",
    "/ \n",
    "+\t\n",
    "6 "
   ]
  },
  {
   "cell_type": "raw",
   "id": "742f5bd9",
   "metadata": {},
   "source": [
    "Ans)  \n",
    "\n",
    "Values: 'hello', -87.8, 6\n",
    "Expressions: *, -, /, +\n"
   ]
  },
  {
   "cell_type": "raw",
   "id": "ccb03728",
   "metadata": {},
   "source": [
    "2. What is the difference between string and variable?"
   ]
  },
  {
   "cell_type": "raw",
   "id": "975bd7c9",
   "metadata": {},
   "source": [
    "Ans) String: A sequence of characters, like text, enclosed in quotes. \n",
    "    Example: \"Hello, World!\"\n",
    "        \n",
    "    Variable: A symbolic name representing a storage location for data in a program.\n",
    "        Example: message = \"Hello, World!\"\n",
    "            \n",
    "    In the above example, message is a variable that holds the string \"Hello, World!\"."
   ]
  },
  {
   "cell_type": "raw",
   "id": "b8298d0c",
   "metadata": {},
   "source": [
    "3. Describe three different data types."
   ]
  },
  {
   "cell_type": "raw",
   "id": "ac3636f5",
   "metadata": {},
   "source": [
    "Ans) Here are three different data types in Python:\n",
    "1.\tInteger (int):\n",
    "•\tRepresents whole numbers without any decimal points.\n",
    "•\tExample: x = 5\n",
    "    \n",
    "2.\tString (str):\n",
    "•\tRepresents sequences of characters, enclosed in single (') or double (\") quotes.\n",
    "•\tExample: name = \"Ahmed\"\n",
    "                                                            \n",
    "3.\tFloat (float):\n",
    "•\tRepresents numbers with decimal points or in exponential form.\n",
    "•\tExample: pi = 3.14"
   ]
  },
  {
   "cell_type": "raw",
   "id": "673d3546",
   "metadata": {},
   "source": [
    "4.\tWhat is an expression made up of? What do all expressions do?"
   ]
  },
  {
   "cell_type": "raw",
   "id": "cab44985",
   "metadata": {},
   "source": [
    "Ans) \n",
    "\n",
    "An expression in programming is a combination of values, variables, operators, and function calls\n",
    "that can be evaluated to produce a result.\n",
    "\n",
    "What expressions do\n",
    "\n",
    "Evaluate: Expressions are evaluated to produce a single value.\n",
    "The evaluation involves performing operations, substituting variables with their values, and resolving any function calls.\n",
    "\n",
    "Produce Results\n",
    "\n",
    "Facilitate Operations\n"
   ]
  },
  {
   "cell_type": "raw",
   "id": "2520d55f",
   "metadata": {},
   "source": [
    "5.\tThis assignment statements, like spam = 10. What is the difference between an expression and a statement?"
   ]
  },
  {
   "cell_type": "raw",
   "id": "ec745398",
   "metadata": {},
   "source": [
    "Ans)\n",
    "\n",
    "Expression: Produces a value and can be part of a statement.\n",
    "Statement: Represents a complete action or command. It may or may not include expressions\n",
    "    \n",
    "Example \n",
    "spam = 10:\n",
    "    \n",
    "assigning the value 10 to the variable spam\n",
    "The entire line is a statement, as it is a complete command that performs an action\n"
   ]
  },
  {
   "cell_type": "raw",
   "id": "4b94dc13",
   "metadata": {},
   "source": [
    "6. After running the following code, what does the variable bacon contain?\n",
    "  bacon = 22\n",
    "  bacon + 1\n"
   ]
  },
  {
   "cell_type": "raw",
   "id": "80081016",
   "metadata": {},
   "source": [
    "Ans)\n",
    "\n",
    "The variable bacon is assigned the value 22, and then bacon + 1 is evaluated.\n",
    "However, the result of bacon + 1 is not stored or assigned to any variable.\n",
    "Therefore, the value of bacon remains unchanged.\n",
    "\n",
    "OUPUT\n",
    "22\n"
   ]
  },
  {
   "cell_type": "raw",
   "id": "a720cab8",
   "metadata": {},
   "source": [
    "7. What should the values of the following two terms be?"
   ]
  },
  {
   "cell_type": "raw",
   "id": "fa3d3590",
   "metadata": {},
   "source": [
    "Ans) \n",
    "\n",
    "i) 'spam' + 'spamspam'\n",
    "\n",
    "   OUTPUT\n",
    "  \n",
    "  'spamspamspam'\n",
    "  \n",
    "  \n",
    "ii)'spam' * 3\n",
    "\n",
    "   OUTPUT\n",
    "   \n",
    "  'spamspamspam'\n"
   ]
  },
  {
   "cell_type": "raw",
   "id": "d03f5cbd",
   "metadata": {},
   "source": [
    "8. Why is eggs a valid variable name while 100 is invalid?"
   ]
  },
  {
   "cell_type": "raw",
   "id": "52ea9df8",
   "metadata": {},
   "source": [
    "Ans)\n",
    "\n",
    "FIRST RULE IN PYTHON \n",
    "Variable names must start with a letter (a-z, A-Z) or an underscore (_).\n",
    "\n",
    "SECOND RULE IN PYTHON\n",
    "The remaining characters in the variable name can be letters, numbers, or underscores.\n",
    "\n",
    "•\teggs starts with a letter ('e'), so it satisfies the first rule.\n",
    "•\tThe remaining characters are all letters, which are valid according to the second rule.\n",
    "•\t100 starts with a number, violating the first rule.\n"
   ]
  },
  {
   "cell_type": "raw",
   "id": "bec34590",
   "metadata": {},
   "source": [
    "9. What three functions can be used to get the integer, floating-point number, or string version of a value?"
   ]
  },
  {
   "cell_type": "raw",
   "id": "ed1f5b24",
   "metadata": {},
   "source": [
    "Ans)\n",
    "\n",
    "i) int(x)\n",
    "value = 10.5\n",
    "a = int(value)\n",
    "\n",
    "\n",
    "\n",
    "OUTPUT\n",
    "10\n",
    "\n",
    "\n",
    "ii) float(x)\n",
    "value = 10\n",
    "a = float(value)\n",
    "\n",
    "\n",
    "OUTPUT\n",
    "10.0\n",
    "\n",
    "\n",
    "iii) str(x)\n",
    "value = 42\n",
    "a = str(value)\n",
    "\n",
    "\n",
    "OUTPUT\n",
    "‘42’\n"
   ]
  },
  {
   "cell_type": "raw",
   "id": "181efb81",
   "metadata": {},
   "source": [
    "10. Why does this expression cause an error? How can you fix it?\n",
    "    'I have eaten ' + 99 + ' burritos.'"
   ]
  },
  {
   "cell_type": "raw",
   "id": "1c00fe6c",
   "metadata": {},
   "source": [
    "Ans)\n",
    "\n",
    "In Python, you can concatenate strings with strings, but you cannot concatenate a string with an integer without explicitly converting the integer to a string.\n",
    "\n",
    "Trying to concatenate a string ('I have eaten ') with an integer (99) directly will not work.\n",
    "\n",
    "So,to fix this error, we need to convert the integer 99 to a string before concatenating it with the other strings.\n",
    "By using the str() function \n",
    "\n",
    "Example\n",
    "\n",
    "A= 'I have eaten ' + str(99) + ' burritos.'\n",
    "print(A)\n",
    "\n",
    "OUTPUT\n",
    "I have eaten 99 burritos.\n"
   ]
  }
 ],
 "metadata": {
  "kernelspec": {
   "display_name": "Python 3 (ipykernel)",
   "language": "python",
   "name": "python3"
  },
  "language_info": {
   "codemirror_mode": {
    "name": "ipython",
    "version": 3
   },
   "file_extension": ".py",
   "mimetype": "text/x-python",
   "name": "python",
   "nbconvert_exporter": "python",
   "pygments_lexer": "ipython3",
   "version": "3.11.5"
  }
 },
 "nbformat": 4,
 "nbformat_minor": 5
}
