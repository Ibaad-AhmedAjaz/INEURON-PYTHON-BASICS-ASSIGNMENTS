{
 "cells": [
  {
   "cell_type": "markdown",
   "id": "977f7b8f",
   "metadata": {},
   "source": [
    "# ASSIGNMENT_2 (PYTHON BASICS)"
   ]
  },
  {
   "cell_type": "raw",
   "id": "5ec22b2a",
   "metadata": {},
   "source": [
    "what is a data type"
   ]
  },
  {
   "cell_type": "raw",
   "id": "d8aac7ac",
   "metadata": {},
   "source": [
    "The Boolean data type in Python has two values: True and False. These values are used to represent the truth or falsity of a condition in logical operations.\n",
    "EXAMPLE\n",
    "\n",
    "is_true = True\n",
    "is_false = False\n",
    "result = 5 > 3  # The result is True\n",
    "OUTPUT\n",
    "True\n"
   ]
  }
 ],
 "metadata": {
  "celltoolbar": "Raw Cell Format",
  "kernelspec": {
   "display_name": "Python 3 (ipykernel)",
   "language": "python",
   "name": "python3"
  },
  "language_info": {
   "codemirror_mode": {
    "name": "ipython",
    "version": 3
   },
   "file_extension": ".py",
   "mimetype": "text/x-python",
   "name": "python",
   "nbconvert_exporter": "python",
   "pygments_lexer": "ipython3",
   "version": "3.11.5"
  }
 },
 "nbformat": 4,
 "nbformat_minor": 5
}
